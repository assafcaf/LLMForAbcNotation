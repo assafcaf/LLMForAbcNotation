{
 "cells": [
  {
   "cell_type": "code",
   "execution_count": 37,
   "outputs": [],
   "source": [
    "from tqdm import tqdm\n",
    "from pathlib import Path\n",
    "from data_utils import parse_notation\n",
    "from datasets import load_dataset\n"
   ],
   "metadata": {
    "collapsed": false,
    "ExecuteTime": {
     "end_time": "2023-08-02T16:48:56.454152900Z",
     "start_time": "2023-08-02T16:48:56.449583300Z"
    }
   }
  },
  {
   "cell_type": "code",
   "execution_count": 38,
   "outputs": [],
   "source": [
    "USEABLE_KEYS = [i+\":\" for i in \"BCDFGHIKLMmNOPQRrSsTUVWwXZ\"]"
   ],
   "metadata": {
    "collapsed": false,
    "ExecuteTime": {
     "end_time": "2023-08-02T16:48:57.408057100Z",
     "start_time": "2023-08-02T16:48:57.398021700Z"
    }
   }
  },
  {
   "cell_type": "code",
   "execution_count": 2,
   "outputs": [
    {
     "name": "stderr",
     "output_type": "stream",
     "text": [
      "106501it [00:15, 6947.50it/s] \n"
     ]
    },
    {
     "ename": "KeyboardInterrupt",
     "evalue": "",
     "output_type": "error",
     "traceback": [
      "\u001B[1;31m---------------------------------------------------------------------------\u001B[0m",
      "\u001B[1;31mKeyboardInterrupt\u001B[0m                         Traceback (most recent call last)",
      "Cell \u001B[1;32mIn[2], line 18\u001B[0m\n\u001B[0;32m     15\u001B[0m     samples \u001B[38;5;241m=\u001B[39m []\n\u001B[0;32m     16\u001B[0m     \u001B[38;5;28;01mfor\u001B[39;00m f_name \u001B[38;5;129;01min\u001B[39;00m tqdm(Path(\u001B[38;5;124mr\u001B[39m\u001B[38;5;124m\"\u001B[39m\u001B[38;5;124mC:\u001B[39m\u001B[38;5;124m\\\u001B[39m\u001B[38;5;124mstudies\u001B[39m\u001B[38;5;124m\\\u001B[39m\u001B[38;5;124mdatasets\u001B[39m\u001B[38;5;124m\\\u001B[39m\u001B[38;5;124myandex_music_dataset\u001B[39m\u001B[38;5;124m\\\u001B[39m\u001B[38;5;124mtrain\u001B[39m\u001B[38;5;124m\\\u001B[39m\u001B[38;5;124mabc\u001B[39m\u001B[38;5;124m\"\u001B[39m)\u001B[38;5;241m.\u001B[39mglob(\u001B[38;5;124m\"\u001B[39m\u001B[38;5;124m*.abc\u001B[39m\u001B[38;5;124m\"\u001B[39m)):\n\u001B[0;32m     17\u001B[0m         \u001B[38;5;66;03m# print(f_name)\u001B[39;00m\n\u001B[1;32m---> 18\u001B[0m         \u001B[38;5;28;01mwith\u001B[39;00m \u001B[38;5;28mopen\u001B[39m(f_name, \u001B[38;5;124m'\u001B[39m\u001B[38;5;124mr\u001B[39m\u001B[38;5;124m'\u001B[39m) \u001B[38;5;28;01mas\u001B[39;00m f:\n\u001B[0;32m     19\u001B[0m             a \u001B[38;5;241m=\u001B[39m f\u001B[38;5;241m.\u001B[39mread()\n\u001B[0;32m     21\u001B[0m \u001B[38;5;28;01melse\u001B[39;00m:\n",
      "File \u001B[1;32m~\\miniconda3\\envs\\transformers\\Lib\\site-packages\\IPython\\core\\interactiveshell.py:284\u001B[0m, in \u001B[0;36m_modified_open\u001B[1;34m(file, *args, **kwargs)\u001B[0m\n\u001B[0;32m    277\u001B[0m \u001B[38;5;28;01mif\u001B[39;00m file \u001B[38;5;129;01min\u001B[39;00m {\u001B[38;5;241m0\u001B[39m, \u001B[38;5;241m1\u001B[39m, \u001B[38;5;241m2\u001B[39m}:\n\u001B[0;32m    278\u001B[0m     \u001B[38;5;28;01mraise\u001B[39;00m \u001B[38;5;167;01mValueError\u001B[39;00m(\n\u001B[0;32m    279\u001B[0m         \u001B[38;5;124mf\u001B[39m\u001B[38;5;124m\"\u001B[39m\u001B[38;5;124mIPython won\u001B[39m\u001B[38;5;124m'\u001B[39m\u001B[38;5;124mt let you open fd=\u001B[39m\u001B[38;5;132;01m{\u001B[39;00mfile\u001B[38;5;132;01m}\u001B[39;00m\u001B[38;5;124m by default \u001B[39m\u001B[38;5;124m\"\u001B[39m\n\u001B[0;32m    280\u001B[0m         \u001B[38;5;124m\"\u001B[39m\u001B[38;5;124mas it is likely to crash IPython. If you know what you are doing, \u001B[39m\u001B[38;5;124m\"\u001B[39m\n\u001B[0;32m    281\u001B[0m         \u001B[38;5;124m\"\u001B[39m\u001B[38;5;124myou can use builtins\u001B[39m\u001B[38;5;124m'\u001B[39m\u001B[38;5;124m open.\u001B[39m\u001B[38;5;124m\"\u001B[39m\n\u001B[0;32m    282\u001B[0m     )\n\u001B[1;32m--> 284\u001B[0m \u001B[38;5;28;01mreturn\u001B[39;00m io_open(file, \u001B[38;5;241m*\u001B[39margs, \u001B[38;5;241m*\u001B[39m\u001B[38;5;241m*\u001B[39mkwargs)\n",
      "File \u001B[1;32m<frozen codecs>:260\u001B[0m, in \u001B[0;36m__init__\u001B[1;34m(self, errors)\u001B[0m\n",
      "\u001B[1;31mKeyboardInterrupt\u001B[0m: "
     ]
    }
   ],
   "source": [
    "import os\n",
    "import time\n",
    "import random\n",
    "from tqdm import tqdm\n",
    "from pathlib import Path\n",
    "from datasets import load_dataset\n",
    "from utils import parse_notation\n",
    "\n",
    "FROM_LOCAL = True\n",
    "out_dir = Path(r'C:\\studies\\datasets\\abc_dataset')\n",
    "out_dir.mkdir(exist_ok=True)\n",
    "sep = \"<sep>\"\n",
    "br = \"<nl>\"\n",
    "if FROM_LOCAL:\n",
    "    samples = []\n",
    "    for f_name in tqdm(Path(r\"C:\\studies\\datasets\\yandex_music_dataset\\train\\abc\").glob(\"*.abc\")):\n",
    "        # print(f_name)\n",
    "        with open(f_name, 'r') as f:\n",
    "            a = f.read()\n",
    "\n",
    "else:\n",
    "    samples = load_dataset(\"sander-wood/massive_abcnotation_dataset\")[\"train\"]\n",
    "print(\"preprocessing data...\")\n",
    "time.sleep(0.01)\n",
    "\n",
    "for sample_idx, sample in tqdm(enumerate(samples), total=len(samples), desc=\"preprocessing data\"):\n",
    "    keys, notes, control_code = parse_notation(sample)\n",
    "    line = (control_code + sep + keys + sep + notes).replace(\"\\n\", br) + \"\\n\"\n",
    "    if random.random() < 0.99:\n",
    "        with open(out_dir / f\"train.txt\", \"a\") as f:\n",
    "            f.write(line)\n",
    "    else:\n",
    "        with open(out_dir / f\"test.txt\", \"a\") as f:\n",
    "            f.write(line)\n",
    "\n"
   ],
   "metadata": {
    "collapsed": false,
    "ExecuteTime": {
     "end_time": "2023-08-03T13:50:08.611522900Z",
     "start_time": "2023-08-03T13:49:53.207025900Z"
    }
   }
  },
  {
   "cell_type": "code",
   "execution_count": 50,
   "outputs": [
    {
     "name": "stdout",
     "output_type": "stream",
     "text": [
      "preprocessing data...\n"
     ]
    },
    {
     "name": "stderr",
     "output_type": "stream",
     "text": [
      "preprocessing data: 100%|██████████| 216284/216284 [00:53<00:00, 4066.57it/s]\n"
     ]
    }
   ],
   "source": [
    "file_index = 0\n",
    "out_dir = Path(r'C:\\studies\\datasets\\ds')\n",
    "out_dir.mkdir(exist_ok=True)\n",
    "samples = load_dataset(\"sander-wood/massive_abcnotation_dataset\")[\"train\"]\n",
    "print(\"preprocessing data...\")\n",
    "for sample_idx, sample in tqdm(enumerate(samples), total=len(samples), desc=\"preprocessing data\"):\n",
    "    keys, notes = parse_notation(sample)\n",
    "    if notes is None:\n",
    "        continue\n",
    "    txt = (keys + \" @@@ \" + notes).replace(\"\\n\", \"<br>\")\n",
    "    with open(out_dir / f\"abc_dataset.txt\", \"a\") as f:\n",
    "        f.write(txt+ \"\\n\")\n",
    "    file_index += 1\n"
   ],
   "metadata": {
    "collapsed": false,
    "ExecuteTime": {
     "end_time": "2023-08-02T16:53:37.470852200Z",
     "start_time": "2023-08-02T16:52:42.085308400Z"
    }
   }
  },
  {
   "cell_type": "code",
   "execution_count": 21,
   "outputs": [
    {
     "name": "stdout",
     "output_type": "stream",
     "text": [
      "X\n",
      ":\n",
      "1\n",
      " \n",
      "L\n",
      ":\n"
     ]
    }
   ],
   "source": [
    "with open(out_dir / f\"abc_dataset.txt\", \"r\") as f:\n",
    "    i = 0\n",
    "    for line in f.readline():\n",
    "        print(line)\n",
    "        i += 1\n",
    "        if i > 5:\n",
    "            break"
   ],
   "metadata": {
    "collapsed": false,
    "ExecuteTime": {
     "end_time": "2023-08-02T16:27:37.578836100Z",
     "start_time": "2023-08-02T16:27:37.450496900Z"
    }
   }
  }
 ],
 "metadata": {
  "kernelspec": {
   "display_name": "Python 3",
   "language": "python",
   "name": "python3"
  },
  "language_info": {
   "codemirror_mode": {
    "name": "ipython",
    "version": 2
   },
   "file_extension": ".py",
   "mimetype": "text/x-python",
   "name": "python",
   "nbconvert_exporter": "python",
   "pygments_lexer": "ipython2",
   "version": "2.7.6"
  }
 },
 "nbformat": 4,
 "nbformat_minor": 0
}
